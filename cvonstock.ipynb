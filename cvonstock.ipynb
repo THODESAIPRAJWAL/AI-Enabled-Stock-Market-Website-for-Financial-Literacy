{
 "cells": [
  {
   "cell_type": "code",
   "execution_count": 6,
   "metadata": {},
   "outputs": [
    {
     "name": "stdout",
     "output_type": "stream",
     "text": [
      "Requirement already satisfied: pandas in c:\\users\\simhadri kushal\\appdata\\local\\programs\\python\\python311\\lib\\site-packages (1.5.3)\n",
      "Requirement already satisfied: python-dateutil>=2.8.1 in c:\\users\\simhadri kushal\\appdata\\roaming\\python\\python311\\site-packages (from pandas) (2.8.2)\n",
      "Requirement already satisfied: pytz>=2020.1 in c:\\users\\simhadri kushal\\appdata\\local\\programs\\python\\python311\\lib\\site-packages (from pandas) (2022.7.1)\n",
      "Requirement already satisfied: numpy>=1.21.0 in c:\\users\\simhadri kushal\\appdata\\local\\programs\\python\\python311\\lib\\site-packages (from pandas) (1.23.5)\n",
      "Requirement already satisfied: six>=1.5 in c:\\users\\simhadri kushal\\appdata\\roaming\\python\\python311\\site-packages (from python-dateutil>=2.8.1->pandas) (1.16.0)\n",
      "Note: you may need to restart the kernel to use updated packages.\n"
     ]
    }
   ],
   "source": [
    "pip install pandas"
   ]
  },
  {
   "cell_type": "code",
   "execution_count": 7,
   "metadata": {},
   "outputs": [
    {
     "name": "stdout",
     "output_type": "stream",
     "text": [
      "Requirement already satisfied: plotly.express in c:\\users\\simhadri kushal\\appdata\\local\\programs\\python\\python311\\lib\\site-packages (0.4.1)\n",
      "Requirement already satisfied: pandas>=0.20.0 in c:\\users\\simhadri kushal\\appdata\\local\\programs\\python\\python311\\lib\\site-packages (from plotly.express) (1.5.3)\n",
      "Requirement already satisfied: plotly>=4.1.0 in c:\\users\\simhadri kushal\\appdata\\local\\programs\\python\\python311\\lib\\site-packages (from plotly.express) (5.13.1)\n",
      "Requirement already satisfied: statsmodels>=0.9.0 in c:\\users\\simhadri kushal\\appdata\\local\\programs\\python\\python311\\lib\\site-packages (from plotly.express) (0.13.5)\n",
      "Requirement already satisfied: scipy>=0.18 in c:\\users\\simhadri kushal\\appdata\\roaming\\python\\python311\\site-packages (from plotly.express) (1.10.1)\n",
      "Requirement already satisfied: patsy>=0.5 in c:\\users\\simhadri kushal\\appdata\\local\\programs\\python\\python311\\lib\\site-packages (from plotly.express) (0.5.3)\n",
      "Requirement already satisfied: numpy>=1.11 in c:\\users\\simhadri kushal\\appdata\\local\\programs\\python\\python311\\lib\\site-packages (from plotly.express) (1.23.5)\n",
      "Requirement already satisfied: python-dateutil>=2.8.1 in c:\\users\\simhadri kushal\\appdata\\roaming\\python\\python311\\site-packages (from pandas>=0.20.0->plotly.express) (2.8.2)\n",
      "Requirement already satisfied: pytz>=2020.1 in c:\\users\\simhadri kushal\\appdata\\local\\programs\\python\\python311\\lib\\site-packages (from pandas>=0.20.0->plotly.express) (2022.7.1)\n",
      "Requirement already satisfied: six in c:\\users\\simhadri kushal\\appdata\\roaming\\python\\python311\\site-packages (from patsy>=0.5->plotly.express) (1.16.0)\n",
      "Requirement already satisfied: tenacity>=6.2.0 in c:\\users\\simhadri kushal\\appdata\\local\\programs\\python\\python311\\lib\\site-packages (from plotly>=4.1.0->plotly.express) (8.2.2)\n",
      "Requirement already satisfied: packaging>=21.3 in c:\\users\\simhadri kushal\\appdata\\roaming\\python\\python311\\site-packages (from statsmodels>=0.9.0->plotly.express) (23.0)\n",
      "Note: you may need to restart the kernel to use updated packages.\n"
     ]
    }
   ],
   "source": [
    "pip install plotly.express"
   ]
  },
  {
   "cell_type": "code",
   "execution_count": 1,
   "metadata": {
    "id": "8dry8sfu-6B8"
   },
   "outputs": [],
   "source": [
    "import pandas as pd\n",
    "import plotly.express as px"
   ]
  },
  {
   "cell_type": "code",
   "execution_count": null,
   "metadata": {},
   "outputs": [],
   "source": [
    "company = input(\"Company Symbol: \")"
   ]
  },
  {
   "cell_type": "code",
   "execution_count": null,
   "metadata": {
    "id": "8s0zi90H-Lxc"
   },
   "outputs": [],
   "source": [
    "import csv\n",
    "import requests\n",
    "CSV_URL = 'https://www.alphavantage.co/query?function=TIME_SERIES_INTRADAY_EXTENDED&symbol='+company+'T&interval=5min&slice=year1month3&apikey=UQIAWPA3R7MT2NP7'\n",
    "\n",
    "with requests.Session() as s:\n",
    "    download = s.get(CSV_URL)\n",
    "    decoded_content = download.content.decode('utf-8')\n",
    "    cr = csv.reader(decoded_content.splitlines(), delimiter=',')\n",
    "    my_list = list(cr)\n",
    "    \n",
    "    "
   ]
  },
  {
   "cell_type": "code",
   "execution_count": null,
   "metadata": {
    "colab": {
     "base_uri": "https://localhost:8080/"
    },
    "id": "TAb4_jbtBmps",
    "outputId": "4b4eee33-0b06-4680-d997-b7fe03d81007"
   },
   "outputs": [],
   "source": [
    "for row in my_list:\n",
    "        print(row)\n"
   ]
  },
  {
   "cell_type": "code",
   "execution_count": null,
   "metadata": {
    "colab": {
     "base_uri": "https://localhost:8080/",
     "height": 423
    },
    "id": "eYH1gnYE_CFA",
    "outputId": "fb310bdd-ffaa-4f20-b174-3697c823d2fd"
   },
   "outputs": [],
   "source": [
    "header = my_list[0]\n",
    "data = my_list[1:]\n",
    "    \n",
    "df = pd.DataFrame(data, columns=header)\n",
    "df"
   ]
  },
  {
   "cell_type": "code",
   "execution_count": 6,
   "metadata": {
    "id": "0DISRGVjCBXc"
   },
   "outputs": [],
   "source": [
    "df = pd.DataFrame(data, columns=header)\n",
    "\n",
    "df['time'] = pd.to_datetime(df['time'])\n",
    "df = df.sort_values(by='time')"
   ]
  },
  {
   "cell_type": "code",
   "execution_count": null,
   "metadata": {
    "id": "_IB01nhZCX08"
   },
   "outputs": [],
   "source": [
    "dates = df['time'].dt.date.unique()"
   ]
  },
  {
   "cell_type": "code",
   "execution_count": null,
   "metadata": {
    "colab": {
     "base_uri": "https://localhost:8080/",
     "height": 1000
    },
    "id": "lhfkyxOxA5Gi",
    "outputId": "6dd64b46-c8b3-4d07-d632-f94fe3dcedf6"
   },
   "outputs": [],
   "source": [
    "import plotly.graph_objs as go\n",
    "\n",
    "for date in dates:\n",
    "    sub_df = df[df['time'].dt.date == date]\n",
    "    candlestick = go.Candlestick(x=sub_df['time'],open=sub_df['open'], high=sub_df['high'], low=sub_df['low'], close=sub_df['close'])\n",
    "    fig = go.Figure(data=[candlestick])\n",
    "    fig.update_layout(title=f'Candlestick chart for {date}')\n",
    "    fig.show()\n"
   ]
  },
  {
   "cell_type": "code",
   "execution_count": null,
   "metadata": {
    "colab": {
     "base_uri": "https://localhost:8080/"
    },
    "id": "EaEv7qlVFNI7",
    "outputId": "1caeaae2-9f64-407e-d9b8-17180946d260"
   },
   "outputs": [],
   "source": [
    "import plotly.graph_objs as go\n",
    "\n",
    "for date in dates:\n",
    "    sub_df = df[(df['time'].dt.date == date) & (df['time'].dt.hour >= 9) & (df['time'].dt.hour <= 16)]\n",
    "    if sub_df.empty:\n",
    "        continue\n",
    "    candlestick = go.Candlestick(x=sub_df['time'],open=sub_df['open'], high=sub_df['high'], low=sub_df['low'], close=sub_df['close'])\n",
    "    fig = go.Figure(data=[candlestick])\n",
    "    fig.update_layout(title=f'Candlestick chart for {date}')\n",
    "    fig.show()"
   ]
  },
  {
   "cell_type": "code",
   "execution_count": null,
   "metadata": {
    "id": "0KAq-0LZVEST"
   },
   "outputs": [],
   "source": [
    "df = pd.DataFrame(data, columns=header)\n",
    "df = pd.DataFrame(data, columns=header)\n",
    "\n",
    "df['time'] = pd.to_datetime(df['time'])\n",
    "df = df.sort_values(by='time')\n",
    "df['open'] = pd.to_numeric(df['open'])\n",
    "df['high'] = pd.to_numeric(df['high'])\n",
    "df['low'] = pd.to_numeric(df['low'])\n",
    "df['close'] = pd.to_numeric(df['close'])\n",
    "\n",
    "working_hours = (df['time'].dt.hour >= 9) & (df['time'].dt.hour <= 16)\n",
    "df = df[working_hours]\n",
    "dates = df['time'].dt.date.unique()\n"
   ]
  },
  {
   "cell_type": "code",
   "execution_count": null,
   "metadata": {
    "colab": {
     "base_uri": "https://localhost:8080/"
    },
    "id": "fnZnQnfLT99j",
    "outputId": "f2e06144-a953-4b26-fc9b-cba49e02804d"
   },
   "outputs": [],
   "source": [
    "import plotly.graph_objs as go\n",
    "\n",
    "for date in dates:\n",
    "    sub_df = df[df['time'].dt.date == date]\n",
    "    candlestick = go.Candlestick(x=sub_df['time'],open=sub_df['open'], high=sub_df['high'], low=sub_df['low'], close=sub_df['close'])\n",
    "    fig = go.Figure(data=[candlestick])\n",
    "    \n",
    "    trend = \"UP\" if sub_df['close'].iloc[-1] > sub_df['open'].iloc[0] else \"DOWN\"\n",
    "    fig.update_layout(title=f'Candlestick chart for {date} - Trend: {trend}')\n",
    "    fig.show()"
   ]
  },
  {
   "cell_type": "markdown",
   "metadata": {
    "id": "aLXOwBgwVTIN"
   },
   "source": [
    "This code first filters the data to only include the working hours between 9am and 4pm, and then for each unique date in the data, it plots a candlestick chart and determines whether the trend for that day is \"UP\" or \"DOWN\" based on the opening and closing prices. The trend is then displayed in the chart's title."
   ]
  },
  {
   "cell_type": "code",
   "execution_count": null,
   "metadata": {},
   "outputs": [],
   "source": [
    "import os\n",
    "if not os.path.exists(\"D:/WebDevelopment/Self Projects/tarp/public/cv/\" + company):\n",
    "    os.mkdir(\"D:/WebDevelopment/Self Projects/tarp/public/cv/\" + company)"
   ]
  },
  {
   "cell_type": "code",
   "execution_count": null,
   "metadata": {
    "colab": {
     "base_uri": "https://localhost:8080/"
    },
    "id": "2iXyFVCNWJOj",
    "outputId": "7d145c9f-8add-41af-b3bd-d6e57467e051"
   },
   "outputs": [],
   "source": [
    "for date in dates:\n",
    "    count = 0\n",
    "    sub_df = df[df['time'].dt.date == date]\n",
    "    candlestick = go.Candlestick(x=sub_df['time'], open=sub_df['open'], high=sub_df['high'], low=sub_df['low'], close=sub_df['close'])\n",
    "    ma = sub_df['close'].rolling(window=10).mean()\n",
    "    trend_line = go.Scatter(x=sub_df['time'], y=ma, line=dict(color='red'), name='Trend Line')\n",
    "    fig = go.Figure(data=[candlestick, trend_line])\n",
    "    fig.update_layout(title=f'Candlestick chart with Trend Line for {date}')\n",
    "    fig.show()\n",
    "    \n",
    "    fig.write_html(company+\"/\"+str(count)+\".html\")"
   ]
  },
  {
   "cell_type": "code",
   "execution_count": null,
   "metadata": {
    "id": "m-K-aF5pXcbk"
   },
   "outputs": [],
   "source": [
    "pip install -U kaleido\n"
   ]
  }
 ],
 "metadata": {
  "colab": {
   "provenance": []
  },
  "kernelspec": {
   "display_name": "Python 3 (ipykernel)",
   "language": "python",
   "name": "python3"
  },
  "language_info": {
   "codemirror_mode": {
    "name": "ipython",
    "version": 3
   },
   "file_extension": ".py",
   "mimetype": "text/x-python",
   "name": "python",
   "nbconvert_exporter": "python",
   "pygments_lexer": "ipython3",
   "version": "3.11.2"
  }
 },
 "nbformat": 4,
 "nbformat_minor": 1
}
