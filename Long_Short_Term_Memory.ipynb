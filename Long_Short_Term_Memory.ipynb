{
 "cells": [
  {
   "cell_type": "code",
   "execution_count": 1,
   "id": "T7cI7bG_a_XR",
   "metadata": {
    "colab": {
     "base_uri": "https://localhost:8080/"
    },
    "id": "T7cI7bG_a_XR",
    "outputId": "55f04999-827a-4ee2-9260-27a59e74801b"
   },
   "outputs": [
    {
     "name": "stdout",
     "output_type": "stream",
     "text": [
      "Requirement already satisfied: yfinance in c:\\users\\simhadri kushal\\appdata\\local\\programs\\python\\python311\\lib\\site-packages (0.2.12)\n",
      "Requirement already satisfied: pandas>=1.3.0 in c:\\users\\simhadri kushal\\appdata\\local\\programs\\python\\python311\\lib\\site-packages (from yfinance) (1.5.3)\n",
      "Requirement already satisfied: numpy>=1.16.5 in c:\\users\\simhadri kushal\\appdata\\local\\programs\\python\\python311\\lib\\site-packages (from yfinance) (1.23.5)\n",
      "Requirement already satisfied: requests>=2.26 in c:\\users\\simhadri kushal\\appdata\\roaming\\python\\python311\\site-packages (from yfinance) (2.28.2)\n",
      "Requirement already satisfied: multitasking>=0.0.7 in c:\\users\\simhadri kushal\\appdata\\local\\programs\\python\\python311\\lib\\site-packages (from yfinance) (0.0.11)\n",
      "Requirement already satisfied: lxml>=4.9.1 in c:\\users\\simhadri kushal\\appdata\\local\\programs\\python\\python311\\lib\\site-packages (from yfinance) (4.9.2)\n",
      "Requirement already satisfied: appdirs>=1.4.4 in c:\\users\\simhadri kushal\\appdata\\local\\programs\\python\\python311\\lib\\site-packages (from yfinance) (1.4.4)\n",
      "Requirement already satisfied: pytz>=2022.5 in c:\\users\\simhadri kushal\\appdata\\local\\programs\\python\\python311\\lib\\site-packages (from yfinance) (2022.7.1)\n",
      "Requirement already satisfied: frozendict>=2.3.4 in c:\\users\\simhadri kushal\\appdata\\local\\programs\\python\\python311\\lib\\site-packages (from yfinance) (2.3.5)\n",
      "Requirement already satisfied: cryptography>=3.3.2 in c:\\users\\simhadri kushal\\appdata\\local\\programs\\python\\python311\\lib\\site-packages (from yfinance) (39.0.2)\n",
      "Requirement already satisfied: beautifulsoup4>=4.11.1 in c:\\users\\simhadri kushal\\appdata\\local\\programs\\python\\python311\\lib\\site-packages (from yfinance) (4.11.2)\n",
      "Requirement already satisfied: html5lib>=1.1 in c:\\users\\simhadri kushal\\appdata\\local\\programs\\python\\python311\\lib\\site-packages (from yfinance) (1.1)\n",
      "Requirement already satisfied: soupsieve>1.2 in c:\\users\\simhadri kushal\\appdata\\local\\programs\\python\\python311\\lib\\site-packages (from beautifulsoup4>=4.11.1->yfinance) (2.4)\n",
      "Requirement already satisfied: cffi>=1.12 in c:\\users\\simhadri kushal\\appdata\\local\\programs\\python\\python311\\lib\\site-packages (from cryptography>=3.3.2->yfinance) (1.15.1)\n",
      "Requirement already satisfied: six>=1.9 in c:\\users\\simhadri kushal\\appdata\\roaming\\python\\python311\\site-packages (from html5lib>=1.1->yfinance) (1.16.0)\n",
      "Requirement already satisfied: webencodings in c:\\users\\simhadri kushal\\appdata\\local\\programs\\python\\python311\\lib\\site-packages (from html5lib>=1.1->yfinance) (0.5.1)\n",
      "Requirement already satisfied: python-dateutil>=2.8.1 in c:\\users\\simhadri kushal\\appdata\\roaming\\python\\python311\\site-packages (from pandas>=1.3.0->yfinance) (2.8.2)\n",
      "Requirement already satisfied: charset-normalizer<4,>=2 in c:\\users\\simhadri kushal\\appdata\\local\\programs\\python\\python311\\lib\\site-packages (from requests>=2.26->yfinance) (3.0.1)\n",
      "Requirement already satisfied: idna<4,>=2.5 in c:\\users\\simhadri kushal\\appdata\\roaming\\python\\python311\\site-packages (from requests>=2.26->yfinance) (3.4)\n",
      "Requirement already satisfied: urllib3<1.27,>=1.21.1 in c:\\users\\simhadri kushal\\appdata\\local\\programs\\python\\python311\\lib\\site-packages (from requests>=2.26->yfinance) (1.26.14)\n",
      "Requirement already satisfied: certifi>=2017.4.17 in c:\\users\\simhadri kushal\\appdata\\roaming\\python\\python311\\site-packages (from requests>=2.26->yfinance) (2022.12.7)\n",
      "Requirement already satisfied: pycparser in c:\\users\\simhadri kushal\\appdata\\local\\programs\\python\\python311\\lib\\site-packages (from cffi>=1.12->cryptography>=3.3.2->yfinance) (2.21)\n"
     ]
    }
   ],
   "source": [
    "!pip install yfinance"
   ]
  },
  {
   "cell_type": "code",
   "execution_count": 2,
   "id": "25745e64",
   "metadata": {},
   "outputs": [],
   "source": [
    "#! pip install --user sklearn"
   ]
  },
  {
   "cell_type": "code",
   "execution_count": 3,
   "id": "9d52b152",
   "metadata": {},
   "outputs": [],
   "source": [
    "#!pip3 install sklearn"
   ]
  },
  {
   "cell_type": "code",
   "execution_count": 4,
   "id": "23a5675c",
   "metadata": {
    "id": "23a5675c"
   },
   "outputs": [
    {
     "ename": "ModuleNotFoundError",
     "evalue": "No module named 'sklearn'",
     "output_type": "error",
     "traceback": [
      "\u001b[1;31m---------------------------------------------------------------------------\u001b[0m",
      "\u001b[1;31mModuleNotFoundError\u001b[0m                       Traceback (most recent call last)",
      "Cell \u001b[1;32mIn[4], line 2\u001b[0m\n\u001b[0;32m      1\u001b[0m \u001b[38;5;28;01mimport\u001b[39;00m \u001b[38;5;21;01myfinance\u001b[39;00m \u001b[38;5;28;01mas\u001b[39;00m \u001b[38;5;21;01myf\u001b[39;00m\n\u001b[1;32m----> 2\u001b[0m \u001b[38;5;28;01mfrom\u001b[39;00m \u001b[38;5;21;01msklearn\u001b[39;00m\u001b[38;5;21;01m.\u001b[39;00m\u001b[38;5;21;01mpreprocessing\u001b[39;00m \u001b[38;5;28;01mimport\u001b[39;00m MinMaxScaler\n",
      "\u001b[1;31mModuleNotFoundError\u001b[0m: No module named 'sklearn'"
     ]
    }
   ],
   "source": [
    "import yfinance as yf\n",
    "from sklearn.preprocessing import MinMaxScaler"
   ]
  },
  {
   "cell_type": "code",
   "execution_count": null,
   "id": "91060b0c",
   "metadata": {},
   "outputs": [],
   "source": [
    "company = input(\"Company Symbol: \")"
   ]
  },
  {
   "cell_type": "code",
   "execution_count": null,
   "id": "d34ffce9",
   "metadata": {
    "id": "d34ffce9"
   },
   "outputs": [],
   "source": [
    "msft = yf.Ticker(company)"
   ]
  },
  {
   "cell_type": "code",
   "execution_count": null,
   "id": "b4025962",
   "metadata": {
    "colab": {
     "base_uri": "https://localhost:8080/",
     "height": 98
    },
    "id": "b4025962",
    "outputId": "ac51f191-c440-4a96-80f7-77d9ebd0cce3"
   },
   "outputs": [],
   "source": [
    "msft.history(period='5d')"
   ]
  },
  {
   "cell_type": "code",
   "execution_count": null,
   "id": "b72e3acf",
   "metadata": {
    "id": "b72e3acf"
   },
   "outputs": [],
   "source": [
    "df=msft.history(start='2001-01-19', end='2023-02-19', actions=False)"
   ]
  },
  {
   "cell_type": "code",
   "execution_count": null,
   "id": "fde688b0",
   "metadata": {
    "colab": {
     "base_uri": "https://localhost:8080/",
     "height": 455
    },
    "id": "fde688b0",
    "outputId": "75b5f7fa-bdfe-42ca-c7c9-e3c0db53ba28"
   },
   "outputs": [],
   "source": [
    "df"
   ]
  },
  {
   "cell_type": "code",
   "execution_count": null,
   "id": "d501f806",
   "metadata": {
    "colab": {
     "base_uri": "https://localhost:8080/"
    },
    "id": "d501f806",
    "outputId": "ea246812-8b01-4e8d-8b61-6619b3b35e68"
   },
   "outputs": [],
   "source": [
    "df.index"
   ]
  },
  {
   "cell_type": "code",
   "execution_count": null,
   "id": "d04825d8",
   "metadata": {
    "colab": {
     "base_uri": "https://localhost:8080/"
    },
    "id": "d04825d8",
    "outputId": "6e3ce2ff-e570-4a69-9791-e7f0c9b825a0"
   },
   "outputs": [],
   "source": [
    "df.shape"
   ]
  },
  {
   "cell_type": "code",
   "execution_count": null,
   "id": "3bb61b3c",
   "metadata": {
    "colab": {
     "base_uri": "https://localhost:8080/"
    },
    "id": "3bb61b3c",
    "outputId": "9429cf21-b19e-470a-81f2-64f96f462ddd"
   },
   "outputs": [],
   "source": [
    "df.isnull().sum()"
   ]
  },
  {
   "cell_type": "code",
   "execution_count": null,
   "id": "fd9146ea",
   "metadata": {
    "id": "fd9146ea"
   },
   "outputs": [],
   "source": [
    "df=df.drop(['Open','High','Volume','Low'],axis=1)"
   ]
  },
  {
   "cell_type": "code",
   "execution_count": null,
   "id": "2901fb16",
   "metadata": {
    "colab": {
     "base_uri": "https://localhost:8080/",
     "height": 237
    },
    "id": "2901fb16",
    "outputId": "78267793-2f27-484a-b307-159ba246edf3"
   },
   "outputs": [],
   "source": [
    "df.head()"
   ]
  },
  {
   "cell_type": "code",
   "execution_count": null,
   "id": "caedf8d4",
   "metadata": {
    "id": "caedf8d4"
   },
   "outputs": [],
   "source": [
    "import matplotlib.pyplot as plt\n",
    "plt.rcParams[\"figure.figsize\"] = (20,7)"
   ]
  },
  {
   "cell_type": "code",
   "execution_count": null,
   "id": "eef25eaa",
   "metadata": {
    "colab": {
     "base_uri": "https://localhost:8080/",
     "height": 475
    },
    "id": "eef25eaa",
    "outputId": "3fd2fa0f-a819-475f-ec39-27cfa2d49db4"
   },
   "outputs": [],
   "source": [
    "plt.figure(figsize=(20,7))\n",
    "plt.title(\"Price of msft over the years\")\n",
    "plt.plot(df['2019-09-18':'2021-08-14'])\n",
    "plt.ylabel(\"Price in INR\")\n",
    "plt.xlabel(\"Time\")"
   ]
  },
  {
   "cell_type": "code",
   "execution_count": null,
   "id": "58baad60",
   "metadata": {
    "colab": {
     "base_uri": "https://localhost:8080/",
     "height": 475
    },
    "id": "58baad60",
    "outputId": "ac83726b-61ae-41fc-a947-ea2063aa78e0"
   },
   "outputs": [],
   "source": [
    "plt.figure(figsize=(20,7))\n",
    "plt.title(\"Price of msft in year 2022\")\n",
    "plt.plot(df['2022-01-01':'2023-01-01'])\n",
    "plt.ylabel(\"Price in INR\")\n",
    "plt.xlabel(\"Time\")"
   ]
  },
  {
   "cell_type": "code",
   "execution_count": null,
   "id": "b7e8c9c2",
   "metadata": {
    "id": "b7e8c9c2"
   },
   "outputs": [],
   "source": [
    "data=df.values"
   ]
  },
  {
   "cell_type": "code",
   "execution_count": null,
   "id": "d7189a81",
   "metadata": {
    "colab": {
     "base_uri": "https://localhost:8080/"
    },
    "id": "d7189a81",
    "outputId": "7f3c65b7-6e0c-4cac-e7c1-8da4c36f36b8"
   },
   "outputs": [],
   "source": [
    "data"
   ]
  },
  {
   "cell_type": "code",
   "execution_count": null,
   "id": "9643b549",
   "metadata": {
    "colab": {
     "base_uri": "https://localhost:8080/"
    },
    "id": "9643b549",
    "outputId": "13c8945f-1690-43ed-c1f6-fec7fbb34520"
   },
   "outputs": [],
   "source": [
    "len(data)"
   ]
  },
  {
   "cell_type": "code",
   "execution_count": null,
   "id": "b6613ab2",
   "metadata": {
    "id": "b6613ab2"
   },
   "outputs": [],
   "source": [
    "import math"
   ]
  },
  {
   "cell_type": "code",
   "execution_count": null,
   "id": "ee321762",
   "metadata": {
    "id": "ee321762"
   },
   "outputs": [],
   "source": [
    "train_len=math.ceil(len(data)*0.92)"
   ]
  },
  {
   "cell_type": "code",
   "execution_count": null,
   "id": "5f3644fe",
   "metadata": {
    "colab": {
     "base_uri": "https://localhost:8080/"
    },
    "id": "5f3644fe",
    "outputId": "aea040b5-0e34-415b-8511-14549834ab23"
   },
   "outputs": [],
   "source": [
    "train_len"
   ]
  },
  {
   "cell_type": "code",
   "execution_count": null,
   "id": "82c1c42a",
   "metadata": {
    "id": "82c1c42a"
   },
   "outputs": [],
   "source": [
    "min_max_scalar=MinMaxScaler(feature_range=(0,1))"
   ]
  },
  {
   "cell_type": "code",
   "execution_count": null,
   "id": "78dc33d1",
   "metadata": {
    "id": "78dc33d1"
   },
   "outputs": [],
   "source": [
    "scaled_data=min_max_scalar.fit_transform(data)"
   ]
  },
  {
   "cell_type": "code",
   "execution_count": null,
   "id": "687c5120",
   "metadata": {
    "colab": {
     "base_uri": "https://localhost:8080/"
    },
    "id": "687c5120",
    "outputId": "76d3ec46-62d6-4de2-f4cd-fe6af4817dc2"
   },
   "outputs": [],
   "source": [
    "len(scaled_data)"
   ]
  },
  {
   "cell_type": "code",
   "execution_count": null,
   "id": "2530bbdd",
   "metadata": {
    "colab": {
     "base_uri": "https://localhost:8080/"
    },
    "id": "2530bbdd",
    "outputId": "5d5df5b3-d933-4355-d107-ceaf072b759e"
   },
   "outputs": [],
   "source": [
    "scaled_data"
   ]
  },
  {
   "cell_type": "code",
   "execution_count": null,
   "id": "0d6b3ccb",
   "metadata": {
    "id": "0d6b3ccb"
   },
   "outputs": [],
   "source": [
    "train_data=scaled_data[0:train_len,:]"
   ]
  },
  {
   "cell_type": "code",
   "execution_count": null,
   "id": "9ac0f8ee",
   "metadata": {
    "colab": {
     "base_uri": "https://localhost:8080/"
    },
    "id": "9ac0f8ee",
    "outputId": "f6f11a74-3a61-4060-c5f3-9670405bbd71"
   },
   "outputs": [],
   "source": [
    "len(train_data)"
   ]
  },
  {
   "cell_type": "code",
   "execution_count": null,
   "id": "2229b191",
   "metadata": {
    "colab": {
     "base_uri": "https://localhost:8080/"
    },
    "id": "2229b191",
    "outputId": "d6e74a63-1aaa-4abb-a7fc-072132c87520"
   },
   "outputs": [],
   "source": [
    "len(train_data)"
   ]
  },
  {
   "cell_type": "code",
   "execution_count": null,
   "id": "0223c219",
   "metadata": {
    "id": "0223c219"
   },
   "outputs": [],
   "source": [
    "interval=60"
   ]
  },
  {
   "cell_type": "code",
   "execution_count": null,
   "id": "52c3abdc",
   "metadata": {
    "id": "52c3abdc"
   },
   "outputs": [],
   "source": [
    "x_train=[]\n",
    "y_train=[]\n",
    "\n",
    "for i in range(interval,len(train_data)):\n",
    "    x_train.append(train_data[i-interval:i,0])\n",
    "    y_train.append(train_data[i,0])"
   ]
  },
  {
   "cell_type": "code",
   "execution_count": null,
   "id": "6775d6a3",
   "metadata": {
    "colab": {
     "base_uri": "https://localhost:8080/"
    },
    "id": "6775d6a3",
    "outputId": "8dba241e-8f57-4769-f3e7-3d3e790959d8"
   },
   "outputs": [],
   "source": [
    "x_train"
   ]
  },
  {
   "cell_type": "code",
   "execution_count": null,
   "id": "834f9674",
   "metadata": {
    "colab": {
     "base_uri": "https://localhost:8080/"
    },
    "id": "834f9674",
    "outputId": "8ea38e8d-ae4f-4378-a077-a3666c723083"
   },
   "outputs": [],
   "source": [
    "y_train"
   ]
  },
  {
   "cell_type": "code",
   "execution_count": null,
   "id": "30bf78bf",
   "metadata": {
    "id": "30bf78bf"
   },
   "outputs": [],
   "source": [
    "import numpy as np"
   ]
  },
  {
   "cell_type": "code",
   "execution_count": null,
   "id": "8f00e071",
   "metadata": {
    "id": "8f00e071"
   },
   "outputs": [],
   "source": [
    "x_train,y_train=np.array(x_train),np.array(y_train)"
   ]
  },
  {
   "cell_type": "code",
   "execution_count": null,
   "id": "61fa39a2",
   "metadata": {
    "id": "61fa39a2"
   },
   "outputs": [],
   "source": [
    "x_train=np.reshape(x_train,(x_train.shape[0],x_train.shape[1],1))"
   ]
  },
  {
   "cell_type": "code",
   "execution_count": null,
   "id": "555c843e",
   "metadata": {
    "colab": {
     "base_uri": "https://localhost:8080/"
    },
    "id": "555c843e",
    "outputId": "984156c9-7408-45cb-8354-e466fb3bd282"
   },
   "outputs": [],
   "source": [
    "x_train.shape"
   ]
  },
  {
   "cell_type": "code",
   "execution_count": null,
   "id": "0c5ae3da",
   "metadata": {
    "id": "0c5ae3da"
   },
   "outputs": [],
   "source": [
    "import tensorflow as tf\n",
    "import keras\n",
    "from keras.preprocessing import image\n",
    "from keras.models import Sequential\n",
    "from keras.layers import Conv2D, MaxPool2D, Flatten,Dense,Dropout,BatchNormalization,LSTM\n",
    "from keras import regularizers\n",
    "from tensorflow.keras.optimizers import Adam,RMSprop,SGD,Adamax"
   ]
  },
  {
   "cell_type": "code",
   "execution_count": null,
   "id": "065dd13b",
   "metadata": {
    "id": "065dd13b"
   },
   "outputs": [],
   "source": [
    "model=Sequential()\n",
    "# model.add(LSTM(100,return_sequences=True,input_shape=(x_train.shape[1],1)))\n",
    "# model.add(LSTM(150,return_sequences=True,input_shape=(x_train.shape[1],1)))\n",
    "# model.add(LSTM(75,return_sequences=True))\n",
    "model.add(LSTM(50,return_sequences=True,input_shape=(x_train.shape[1],1)))\n",
    "# model.add(Dropout(0.2))\n",
    "# model.add(LSTM(units=50, return_sequences=True))\n",
    "# model.add(Dropout(0.2))\n",
    "\n",
    "# model.add(LSTM(units=50, return_sequences=True))\n",
    "# model.add(Dropout(0.2))\n",
    "\n",
    "model.add(LSTM(units=50))\n",
    "# model.add(Dropout(0.2))\n",
    "# model.add(LSTM(50,return_sequences=False))\n",
    "model.add(Dense(50))\n",
    "# model.add(drop)\n",
    "# model.add(Dense(25))\n",
    "model.add(Dense(1))"
   ]
  },
  {
   "cell_type": "code",
   "execution_count": null,
   "id": "c8652933",
   "metadata": {
    "id": "c8652933"
   },
   "outputs": [],
   "source": [
    "model.compile(optimizer=\"adam\",loss=\"mean_squared_error\")"
   ]
  },
  {
   "cell_type": "code",
   "execution_count": null,
   "id": "7eed491a",
   "metadata": {
    "colab": {
     "base_uri": "https://localhost:8080/"
    },
    "id": "7eed491a",
    "outputId": "97acb971-4efa-4215-86a8-484ed5712a87"
   },
   "outputs": [],
   "source": [
    "history=model.fit(x_train,y_train,batch_size=64,epochs=40)"
   ]
  },
  {
   "cell_type": "code",
   "execution_count": null,
   "id": "f86b6e60",
   "metadata": {
    "colab": {
     "base_uri": "https://localhost:8080/"
    },
    "id": "f86b6e60",
    "outputId": "6b797547-0c0a-4e49-bf78-4377cafbecd7"
   },
   "outputs": [],
   "source": [
    "history=model.fit(x_train,y_train,batch_size=64,epochs=40)"
   ]
  },
  {
   "cell_type": "code",
   "execution_count": null,
   "id": "c216ce65",
   "metadata": {
    "id": "c216ce65"
   },
   "outputs": [],
   "source": [
    "test_data=scaled_data[train_len-interval:,:]"
   ]
  },
  {
   "cell_type": "code",
   "execution_count": null,
   "id": "84b61119",
   "metadata": {
    "id": "84b61119"
   },
   "outputs": [],
   "source": [
    "x_test=[]\n",
    "y_test=data[train_len:,:]\n",
    "for i in range(interval,len(test_data)):\n",
    "    x_test.append(test_data[i-interval:i,0])"
   ]
  },
  {
   "cell_type": "code",
   "execution_count": null,
   "id": "15afbcf6",
   "metadata": {
    "colab": {
     "base_uri": "https://localhost:8080/"
    },
    "id": "15afbcf6",
    "outputId": "9c2b8cf3-26c8-49bc-f353-964a492b5e88"
   },
   "outputs": [],
   "source": [
    "y_test"
   ]
  },
  {
   "cell_type": "code",
   "execution_count": null,
   "id": "c3714332",
   "metadata": {
    "colab": {
     "base_uri": "https://localhost:8080/"
    },
    "id": "c3714332",
    "outputId": "9e52ea5e-66a1-4adf-f74f-e9f0a11ca348"
   },
   "outputs": [],
   "source": [
    "x_test"
   ]
  },
  {
   "cell_type": "code",
   "execution_count": null,
   "id": "3519209d",
   "metadata": {
    "colab": {
     "base_uri": "https://localhost:8080/"
    },
    "id": "3519209d",
    "outputId": "9e6c2008-1ce5-48a6-d0d3-5b36e0119d7a"
   },
   "outputs": [],
   "source": [
    "len(y_test)"
   ]
  },
  {
   "cell_type": "code",
   "execution_count": null,
   "id": "f2e18f35",
   "metadata": {
    "colab": {
     "base_uri": "https://localhost:8080/"
    },
    "id": "f2e18f35",
    "outputId": "8e381a94-0971-4059-9f76-2fc3db6599a9"
   },
   "outputs": [],
   "source": [
    "len(x_test)"
   ]
  },
  {
   "cell_type": "code",
   "execution_count": null,
   "id": "9573ae0b",
   "metadata": {
    "id": "9573ae0b"
   },
   "outputs": [],
   "source": [
    "x_test=np.array(x_test)"
   ]
  },
  {
   "cell_type": "code",
   "execution_count": null,
   "id": "2ae94706",
   "metadata": {
    "id": "2ae94706"
   },
   "outputs": [],
   "source": [
    "x_test=np.reshape(x_test,(x_test.shape[0],x_test.shape[1],1))"
   ]
  },
  {
   "cell_type": "code",
   "execution_count": null,
   "id": "330dfae7",
   "metadata": {
    "colab": {
     "base_uri": "https://localhost:8080/"
    },
    "id": "330dfae7",
    "outputId": "93453b75-824c-430d-94d7-01735c054603"
   },
   "outputs": [],
   "source": [
    "predictions=model.predict(x_test)\n",
    "predictions=min_max_scalar.inverse_transform(predictions)"
   ]
  },
  {
   "cell_type": "code",
   "execution_count": null,
   "id": "9e728ab1",
   "metadata": {
    "colab": {
     "base_uri": "https://localhost:8080/"
    },
    "id": "9e728ab1",
    "outputId": "de295901-7d59-4a2a-a1ab-8f0125ae74c3"
   },
   "outputs": [],
   "source": [
    "predictions[0:5]"
   ]
  },
  {
   "cell_type": "code",
   "execution_count": null,
   "id": "945f0ded",
   "metadata": {
    "colab": {
     "base_uri": "https://localhost:8080/"
    },
    "id": "945f0ded",
    "outputId": "625c7d30-1d7a-4ce8-8492-581bb81e0c8f"
   },
   "outputs": [],
   "source": [
    "rmse_error=np.sqrt(np.mean(predictions-y_test)**2)\n",
    "rmse_error"
   ]
  },
  {
   "cell_type": "code",
   "execution_count": null,
   "id": "c8de5e13",
   "metadata": {
    "colab": {
     "base_uri": "https://localhost:8080/"
    },
    "id": "c8de5e13",
    "outputId": "41fd9d73-21d9-4491-db98-ad9ece2168ab"
   },
   "outputs": [],
   "source": [
    "train_data=df[0:train_len]\n",
    "valid_data=df[train_len:]\n",
    "valid_data['predictions']=predictions"
   ]
  },
  {
   "cell_type": "code",
   "execution_count": null,
   "id": "d2d87c92",
   "metadata": {
    "colab": {
     "base_uri": "https://localhost:8080/",
     "height": 237
    },
    "id": "d2d87c92",
    "outputId": "c6b7c121-979a-403a-c772-6db0223eec62"
   },
   "outputs": [],
   "source": [
    "train_data.head()"
   ]
  },
  {
   "cell_type": "code",
   "execution_count": null,
   "id": "dd61d16f",
   "metadata": {
    "colab": {
     "base_uri": "https://localhost:8080/",
     "height": 237
    },
    "id": "dd61d16f",
    "outputId": "dd03dbd1-a6de-4e61-ba06-7ca892376998"
   },
   "outputs": [],
   "source": [
    "valid_data.head()"
   ]
  },
  {
   "cell_type": "code",
   "execution_count": null,
   "id": "dfb2c34c",
   "metadata": {
    "colab": {
     "base_uri": "https://localhost:8080/",
     "height": 466
    },
    "id": "dfb2c34c",
    "outputId": "8549f6c4-2fd3-4e56-bc21-356924adfbb0"
   },
   "outputs": [],
   "source": [
    "plt.figure(figsize=(20,7))\n",
    "plt.title(\"Model Prediction vs Actual Price\")\n",
    "plt.xlabel(\"Date\",fontsize=18)\n",
    "plt.ylabel(\"Price in INR(in Million)\",fontsize=18)\n",
    "plt.plot(train_data['Close'])\n",
    "plt.plot(valid_data['Close'])\n",
    "plt.plot(valid_data['predictions'])\n",
    "plt.legend(['Train','Actual Price','Model Prediction'],loc='lower right',fontsize=15)\n",
    "plt.show()"
   ]
  },
  {
   "cell_type": "code",
   "execution_count": null,
   "id": "3c0c9e6d",
   "metadata": {
    "colab": {
     "base_uri": "https://localhost:8080/",
     "height": 466
    },
    "id": "3c0c9e6d",
    "outputId": "01622a7f-bfe7-46a5-e19f-3201d446b976"
   },
   "outputs": [],
   "source": [
    "plt.figure(figsize=(20,7))\n",
    "plt.title(\"Model Prediction vs Actual Price\")\n",
    "plt.xlabel(\"Date\",fontsize=18)\n",
    "plt.ylabel(\"Price in INR(in Million)\",fontsize=18)\n",
    "# plt.plot(train_data['Close'])\n",
    "plt.plot(valid_data['Close'])\n",
    "plt.plot(valid_data['predictions'])\n",
    "plt.legend(['Actual Price','Model Prediction'],loc='lower right',fontsize=15)\n",
    "plt.show()"
   ]
  },
  {
   "cell_type": "code",
   "execution_count": null,
   "id": "ea4a6f39",
   "metadata": {
    "colab": {
     "base_uri": "https://localhost:8080/",
     "height": 1000
    },
    "id": "ea4a6f39",
    "outputId": "ad9cba65-6baa-49f5-9d3f-c75afe42f8a9"
   },
   "outputs": [],
   "source": [
    "valid_data.head(30)"
   ]
  },
  {
   "cell_type": "code",
   "execution_count": null,
   "id": "39a8eded",
   "metadata": {
    "id": "39a8eded"
   },
   "outputs": [],
   "source": [
    "df_test=msft.history(start='2001-01-19', end='2023-02-20', actions=False)"
   ]
  },
  {
   "cell_type": "code",
   "execution_count": null,
   "id": "85d56b11",
   "metadata": {
    "colab": {
     "base_uri": "https://localhost:8080/",
     "height": 112
    },
    "id": "85d56b11",
    "outputId": "4ea37341-c522-4bab-a02d-bf0c43ff4463"
   },
   "outputs": [],
   "source": [
    "df_test.head(1)"
   ]
  },
  {
   "cell_type": "code",
   "execution_count": null,
   "id": "6274aa91",
   "metadata": {
    "colab": {
     "base_uri": "https://localhost:8080/",
     "height": 112
    },
    "id": "6274aa91",
    "outputId": "4fabc3f4-21a6-4936-da48-855ee3493ee4"
   },
   "outputs": [],
   "source": [
    "df_test.tail(1)"
   ]
  },
  {
   "cell_type": "code",
   "execution_count": null,
   "id": "21dcbf0d",
   "metadata": {
    "id": "21dcbf0d"
   },
   "outputs": [],
   "source": [
    "df_test=df_test.drop(['Open','High','Volume','Low'],axis=1)"
   ]
  },
  {
   "cell_type": "code",
   "execution_count": null,
   "id": "d6020240",
   "metadata": {
    "id": "d6020240"
   },
   "outputs": [],
   "source": [
    "test_value=df_test[-60:].values"
   ]
  },
  {
   "cell_type": "code",
   "execution_count": null,
   "id": "cf2ef722",
   "metadata": {
    "colab": {
     "base_uri": "https://localhost:8080/"
    },
    "id": "cf2ef722",
    "outputId": "40561264-dc05-4db5-e53b-6c2ec5839a35"
   },
   "outputs": [],
   "source": [
    "test_value"
   ]
  },
  {
   "cell_type": "code",
   "execution_count": null,
   "id": "15d54252",
   "metadata": {
    "id": "15d54252"
   },
   "outputs": [],
   "source": [
    "test_value=min_max_scalar.transform(test_value)"
   ]
  },
  {
   "cell_type": "code",
   "execution_count": null,
   "id": "1d6dd57c",
   "metadata": {
    "id": "1d6dd57c"
   },
   "outputs": [],
   "source": [
    "test=[]\n",
    "test.append(test_value)"
   ]
  },
  {
   "cell_type": "code",
   "execution_count": null,
   "id": "18d3ebbe",
   "metadata": {
    "colab": {
     "base_uri": "https://localhost:8080/"
    },
    "id": "18d3ebbe",
    "outputId": "6194b521-3579-45db-afb7-a7d3bc9429a2"
   },
   "outputs": [],
   "source": [
    "test"
   ]
  },
  {
   "cell_type": "code",
   "execution_count": null,
   "id": "a3772049",
   "metadata": {
    "id": "a3772049"
   },
   "outputs": [],
   "source": [
    "test=np.array(test)"
   ]
  },
  {
   "cell_type": "code",
   "execution_count": null,
   "id": "798dd166",
   "metadata": {
    "colab": {
     "base_uri": "https://localhost:8080/"
    },
    "id": "798dd166",
    "outputId": "f9e5759b-f1c2-4d6a-e83a-336ed249bddd"
   },
   "outputs": [],
   "source": [
    "test"
   ]
  },
  {
   "cell_type": "code",
   "execution_count": null,
   "id": "6290a2bd",
   "metadata": {
    "id": "6290a2bd"
   },
   "outputs": [],
   "source": [
    "test=np.reshape(test,(test.shape[0],test.shape[1],1))"
   ]
  },
  {
   "cell_type": "code",
   "execution_count": null,
   "id": "ca033702",
   "metadata": {
    "colab": {
     "base_uri": "https://localhost:8080/"
    },
    "id": "ca033702",
    "outputId": "ac2902e9-2088-4717-9160-ddb4efe1b9ce"
   },
   "outputs": [],
   "source": [
    "tomorrow_prediction=model.predict(test)"
   ]
  },
  {
   "cell_type": "code",
   "execution_count": null,
   "id": "73e179ba",
   "metadata": {
    "id": "73e179ba"
   },
   "outputs": [],
   "source": [
    "tomorrow_prediction=min_max_scalar.inverse_transform(tomorrow_prediction)"
   ]
  },
  {
   "cell_type": "code",
   "execution_count": null,
   "id": "6e52eb44",
   "metadata": {
    "colab": {
     "base_uri": "https://localhost:8080/"
    },
    "id": "6e52eb44",
    "outputId": "5339680f-beba-415a-979b-c54250744f95"
   },
   "outputs": [],
   "source": [
    "tomorrow_prediction"
   ]
  },
  {
   "cell_type": "code",
   "execution_count": null,
   "id": "aaabcc11",
   "metadata": {
    "id": "aaabcc11"
   },
   "outputs": [],
   "source": [
    "model.save(\"msft_price_prediction.h5\")\n"
   ]
  }
 ],
 "metadata": {
  "colab": {
   "provenance": []
  },
  "kernelspec": {
   "display_name": "Python 3 (ipykernel)",
   "language": "python",
   "name": "python3"
  },
  "language_info": {
   "codemirror_mode": {
    "name": "ipython",
    "version": 3
   },
   "file_extension": ".py",
   "mimetype": "text/x-python",
   "name": "python",
   "nbconvert_exporter": "python",
   "pygments_lexer": "ipython3",
   "version": "3.11.2"
  },
  "vscode": {
   "interpreter": {
    "hash": "570feb405e2e27c949193ac68f46852414290d515b0ba6e5d90d076ed2284471"
   }
  }
 },
 "nbformat": 4,
 "nbformat_minor": 5
}
